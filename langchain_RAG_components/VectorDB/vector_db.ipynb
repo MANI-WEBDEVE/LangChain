{
 "cells": [
  {
   "cell_type": "markdown",
   "id": "be786abf",
   "metadata": {},
   "source": [
    "## Vector DataBase"
   ]
  },
  {
   "cell_type": "code",
   "execution_count": 17,
   "id": "967850a9",
   "metadata": {},
   "outputs": [
    {
     "data": {
      "text/plain": [
       "True"
      ]
     },
     "execution_count": 17,
     "metadata": {},
     "output_type": "execute_result"
    }
   ],
   "source": [
    "from langchain_google_genai import GoogleGenerativeAIEmbeddings\n",
    "from langchain_community.vectorstores import Pinecone\n",
    "from langchain.schema import Document\n",
    "from dotenv import load_dotenv\n",
    "import pinecone\n",
    "import os\n",
    "\n",
    "load_dotenv()\n",
    "\n",
    "# Initialize Pinecone with your API key and environment\n",
    "# pinecone.init(\n",
    "#     api_key=os.getenv('PINECONE_API'),\n",
    "#     environment=os.getenv('PINECONE_ENVIRONMENT')\n",
    "# )"
   ]
  },
  {
   "cell_type": "code",
   "execution_count": 18,
   "id": "a3ac20a9",
   "metadata": {},
   "outputs": [],
   "source": [
    "# Create documents for founder and team members\n",
    "doc = Document(page_content=\"The founder of Pakistan is Muhammad Ali Jinnah, a visionary leader and statesman who played a pivotal role in the creation of the country.\")\n",
    "doc_1 = Document(page_content=\"Liaquat Ali Khan, the first Prime Minister of Pakistan, was a close associate of Jinnah and contributed significantly to the nation's early development.\")\n",
    "doc_2 = Document(page_content=\"Fatima Jinnah, the sister of Muhammad Ali Jinnah, was a prominent figure in Pakistan's independence movement and an advocate for women's rights.\")\n",
    "doc_3 = Document(page_content=\"Allama Iqbal, a philosopher and poet, inspired the idea of a separate homeland for Muslims in the Indian subcontinent.\")\n",
    "doc_4 = Document(page_content=\"Sir Syed Ahmed Khan, an educationist and reformer, laid the groundwork for the intellectual and cultural awakening of Muslims in South Asia.\")\n",
    "\n"
   ]
  },
  {
   "cell_type": "code",
   "execution_count": 19,
   "id": "9fffd8aa",
   "metadata": {},
   "outputs": [],
   "source": [
    "docs=[doc,doc_1,doc_2,doc_3,doc_4]"
   ]
  },
  {
   "cell_type": "code",
   "execution_count": null,
   "id": "b1290371",
   "metadata": {},
   "outputs": [],
   "source": [
    "index_name = \"my_pincone_db\"\n",
    "embeddings = GoogleGenerativeAIEmbeddings(model=\"models/embedding-001\")\n",
    "\n",
    "# Create Pinecone vector store\n",
    "vector_store = Pinecone.from_documents(\n",
    "    documents=docs,\n",
    "    embedding=embeddings,\n",
    "    index_name=index_name\n",
    ")"
   ]
  }
 ],
 "metadata": {
  "kernelspec": {
   "display_name": "venv",
   "language": "python",
   "name": "python3"
  },
  "language_info": {
   "codemirror_mode": {
    "name": "ipython",
    "version": 3
   },
   "file_extension": ".py",
   "mimetype": "text/x-python",
   "name": "python",
   "nbconvert_exporter": "python",
   "pygments_lexer": "ipython3",
   "version": "3.12.9"
  }
 },
 "nbformat": 4,
 "nbformat_minor": 5
}
