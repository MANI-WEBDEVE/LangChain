{
 "cells": [
  {
   "cell_type": "markdown",
   "id": "be786abf",
   "metadata": {},
   "source": [
    "## Vector DataBase"
   ]
  },
  {
   "cell_type": "code",
   "execution_count": 1,
   "id": "967850a9",
   "metadata": {},
   "outputs": [
    {
     "name": "stderr",
     "output_type": "stream",
     "text": [
      "c:\\anaconda_setup\\envs\\venv\\Lib\\site-packages\\tqdm\\auto.py:21: TqdmWarning: IProgress not found. Please update jupyter and ipywidgets. See https://ipywidgets.readthedocs.io/en/stable/user_install.html\n",
      "  from .autonotebook import tqdm as notebook_tqdm\n"
     ]
    }
   ],
   "source": [
    "import os\n",
    "from langchain_community.vectorstores import FAISS\n",
    "from langchain_google_genai import GoogleGenerativeAIEmbeddings  # or any other embeddings\n",
    "from dotenv import load_dotenv\n",
    "load_dotenv()\n",
    "\n",
    "# Initialize embeddings\n",
    "embeddings = GoogleGenerativeAIEmbeddings(model=\"models/embedding-001\")"
   ]
  },
  {
   "cell_type": "code",
   "execution_count": 2,
   "id": "a3ac20a9",
   "metadata": {},
   "outputs": [],
   "source": [
    "from langchain.schema import Document\n",
    "# Create documents for founder and team members\n",
    "doc = Document(page_content=\"The founder of Pakistan is Muhammad Ali Jinnah, a visionary leader and statesman who played a pivotal role in the creation of the country.\")\n",
    "doc_1 = Document(page_content=\"Liaquat Ali Khan, the first Prime Minister of Pakistan, was a close associate of Jinnah and contributed significantly to the nation's early development.\")\n",
    "doc_2 = Document(page_content=\"Fatima Jinnah, the sister of Muhammad Ali Jinnah, was a prominent figure in Pakistan's independence movement and an advocate for women's rights.\")\n",
    "doc_3 = Document(page_content=\"Allama Iqbal, a philosopher and poet, inspired the idea of a separate homeland for Muslims in the Indian subcontinent.\")\n",
    "doc_4 = Document(page_content=\"Sir Syed Ahmed Khan, an educationist and reformer, laid the groundwork for the intellectual and cultural awakening of Muslims in South Asia.\")\n",
    "\n"
   ]
  },
  {
   "cell_type": "code",
   "execution_count": 3,
   "id": "9fffd8aa",
   "metadata": {},
   "outputs": [],
   "source": [
    "docs=[doc,doc_1,doc_2,doc_3,doc_4]"
   ]
  },
  {
   "cell_type": "code",
   "execution_count": 5,
   "id": "8469472f",
   "metadata": {},
   "outputs": [],
   "source": [
    "# Extract the page_content from each Document in docs\n",
    "texts = [doc.page_content for doc in docs]\n",
    "\n",
    "# Create the FAISS vector database\n",
    "vectordb = FAISS.from_texts(texts, embeddings)"
   ]
  },
  {
   "cell_type": "code",
   "execution_count": 7,
   "id": "3e2bdcf1",
   "metadata": {},
   "outputs": [],
   "source": [
    "vectordb.save_local(\"faiss_local_index\")"
   ]
  },
  {
   "cell_type": "code",
   "execution_count": 10,
   "id": "e176fc50",
   "metadata": {},
   "outputs": [
    {
     "name": "stdout",
     "output_type": "stream",
     "text": [
      "[Document(id='39a32930-d0f9-46c0-b491-210ba3ef7c96', metadata={}, page_content='The founder of Pakistan is Muhammad Ali Jinnah, a visionary leader and statesman who played a pivotal role in the creation of the country.'), Document(id='d32008c8-7ba7-43c9-9fd2-ef0432135eda', metadata={}, page_content=\"Fatima Jinnah, the sister of Muhammad Ali Jinnah, was a prominent figure in Pakistan's independence movement and an advocate for women's rights.\"), Document(id='6820e9cb-d8c1-4ae9-9890-1da8cb73ea77', metadata={}, page_content=\"Liaquat Ali Khan, the first Prime Minister of Pakistan, was a close associate of Jinnah and contributed significantly to the nation's early development.\")]\n"
     ]
    }
   ],
   "source": [
    "# Load later with dangerous deserialization allowed\n",
    "loaded_db = FAISS.load_local(\"faiss_local_index\", embeddings, allow_dangerous_deserialization=True)\n",
    "\n",
    "# The `similarity_search` method is used to find the most similar documents to a given query.\n",
    "# It takes the query string and the number of results `k` as parameters.\n",
    "results = loaded_db.similarity_search(\"who is jinnah\", k=3)\n",
    "\n",
    "# Print the page content of the most relevant result\n",
    "print(results)"
   ]
  },
  {
   "cell_type": "code",
   "execution_count": 13,
   "id": "27dd38ab",
   "metadata": {},
   "outputs": [
    {
     "data": {
      "text/plain": [
       "[Document(id='39a32930-d0f9-46c0-b491-210ba3ef7c96', metadata={}, page_content='The founder of Pakistan is Muhammad Ali Jinnah, a visionary leader and statesman who played a pivotal role in the creation of the country.')]"
      ]
     },
     "execution_count": 13,
     "metadata": {},
     "output_type": "execute_result"
    }
   ],
   "source": [
    "loaded_db.get_by_ids([\"39a32930-d0f9-46c0-b491-210ba3ef7c96\"])"
   ]
  },
  {
   "cell_type": "markdown",
   "id": "c7015128",
   "metadata": {},
   "source": [
    "## K Parameter ki Explanation\n",
    "\n",
    "`k` parameter similarity search mai results ki quantity control karta hai:\n",
    "\n",
    "- Agar `k=3` hai to top 3 most similar documents return honge\n",
    "- Agar `k=1` hai to sirf single most similar document milega\n",
    "- Jitna bara `k` hoga, utne zyada results milenge\n",
    "- For example: `k=5` means top 5 most matching documents milenge"
   ]
  },
  {
   "cell_type": "code",
   "execution_count": 11,
   "id": "e271ba24",
   "metadata": {},
   "outputs": [
    {
     "name": "stdout",
     "output_type": "stream",
     "text": [
      "With k=1 (single result):\n",
      "Number of results: 1\n",
      "\n",
      "With k=3 (three results):\n",
      "Number of results: 1\n",
      "\n",
      "With k=3 (three results):\n",
      "Number of results: 3\n",
      "Number of results: 3\n"
     ]
    }
   ],
   "source": [
    "# Example with different k values\n",
    "print(\"With k=1 (single result):\")\n",
    "results_1 = loaded_db.similarity_search(\"who is jinnah\", k=1)\n",
    "print(f\"Number of results: {len(results_1)}\\n\")\n",
    "\n",
    "print(\"With k=3 (three results):\")\n",
    "results_3 = loaded_db.similarity_search(\"who is jinnah\", k=3)\n",
    "print(f\"Number of results: {len(results_3)}\")"
   ]
  },
  {
   "cell_type": "markdown",
   "id": "c398db45",
   "metadata": {},
   "source": [
    "## Checking Generated Embeddings\n",
    "\n",
    "Here's how to inspect the embeddings generated for our documents:"
   ]
  },
  {
   "cell_type": "code",
   "execution_count": 15,
   "id": "1f59b11f",
   "metadata": {},
   "outputs": [
    {
     "name": "stdout",
     "output_type": "stream",
     "text": [
      "Embedding length: 768\n",
      "First few values: [0.03253893181681633, -0.05382358282804489, 0.0062140412628650665, 0.0022662095725536346, 0.04724659398198128]\n",
      "\n",
      "Number of document embeddings: 2\n",
      "Each embedding length: 768\n",
      "\n",
      "Number of document embeddings: 2\n",
      "Each embedding length: 768\n"
     ]
    }
   ],
   "source": [
    "# Get embeddings for a single document\n",
    "single_embedding = embeddings.embed_query(docs[0].page_content)\n",
    "\n",
    "# Print embedding information\n",
    "print(f\"Embedding length: {len(single_embedding)}\")\n",
    "print(f\"First few values: {single_embedding[:5]}\")\n",
    "\n",
    "# Get embeddings for multiple texts\n",
    "multiple_embeddings = embeddings.embed_documents([doc.page_content for doc in docs[:2]])\n",
    "\n",
    "print(f\"\\nNumber of document embeddings: {len(multiple_embeddings)}\")\n",
    "print(f\"Each embedding length: {len(multiple_embeddings[0])}\")"
   ]
  }
 ],
 "metadata": {
  "kernelspec": {
   "display_name": "venv",
   "language": "python",
   "name": "python3"
  },
  "language_info": {
   "codemirror_mode": {
    "name": "ipython",
    "version": 3
   },
   "file_extension": ".py",
   "mimetype": "text/x-python",
   "name": "python",
   "nbconvert_exporter": "python",
   "pygments_lexer": "ipython3",
   "version": "3.12.9"
  }
 },
 "nbformat": 4,
 "nbformat_minor": 5
}
